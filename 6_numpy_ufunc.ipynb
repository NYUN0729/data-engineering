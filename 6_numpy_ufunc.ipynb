{
 "cells": [
  {
   "cell_type": "markdown",
   "metadata": {},
   "source": [
    "## <strong>6. NumPy: Universal Functions (UFunc)</strong>"
   ]
  },
  {
   "cell_type": "code",
   "execution_count": null,
   "metadata": {},
   "outputs": [],
   "source": [
    "import numpy as np"
   ]
  },
  {
   "cell_type": "code",
   "execution_count": null,
   "metadata": {},
   "outputs": [],
   "source": [
    "# 역수 계산 함수\n",
    "def compute_reciprocals(values):\n",
    "    output = np.empty(len(values))\n",
    "    for i in range(len(values)):\n",
    "        output[i] = 1.0 / values[i]\n",
    "    return output\n",
    "\n",
    "# 함수 테스트\n",
    "values = np.random.randint(1, 10, size=5)\n",
    "print(values)\n",
    "print(compute_reciprocals(values))"
   ]
  },
  {
   "cell_type": "markdown",
   "metadata": {},
   "source": [
    "#### <strong>역수 계산: Python loop vs NumPy ufuncs</strong>\n",
    "+ ```%timeit```: 셀 단위 코드 실행 시간을 측정하는 매직 함수"
   ]
  },
  {
   "cell_type": "code",
   "execution_count": null,
   "metadata": {},
   "outputs": [],
   "source": [
    "# [+] 백만 개 크기의 난수 배열 생성: 정수, 값 범위 [1, 100)\n",
    "big_array = "
   ]
  },
  {
   "cell_type": "code",
   "execution_count": null,
   "metadata": {},
   "outputs": [],
   "source": [
    "%%timeit\n",
    "\n",
    "# [+] Python loop를 통한 역수 계산 \n",
    "..."
   ]
  },
  {
   "cell_type": "code",
   "execution_count": null,
   "metadata": {},
   "outputs": [],
   "source": [
    "%%timeit\n",
    "\n",
    "# [+] NumPy ufunc을 통한 벡터화된 역수 계산\n",
    "..."
   ]
  },
  {
   "cell_type": "markdown",
   "metadata": {},
   "source": [
    "#### <strong>유니버설 함수들</strong>"
   ]
  },
  {
   "cell_type": "code",
   "execution_count": null,
   "metadata": {},
   "outputs": [],
   "source": [
    "# 난수 배열 2개 생성\n",
    "np.random.seed(1)\n",
    "arr1 = np.random.randint(10, size=5)\n",
    "arr2 = np.random.randint(10, size=5)\n",
    "\n",
    "print(arr1, arr2)"
   ]
  },
  {
   "cell_type": "code",
   "execution_count": null,
   "metadata": {},
   "outputs": [],
   "source": [
    "# 배열-스칼라 연산\n",
    "arr1 = arr1 - 2\n",
    "print(arr1)"
   ]
  },
  {
   "cell_type": "code",
   "execution_count": null,
   "metadata": {},
   "outputs": [],
   "source": [
    "# 배열-배열 연산\n",
    "arr3 = arr1 + arr2\n",
    "print(arr3)"
   ]
  },
  {
   "cell_type": "code",
   "execution_count": null,
   "metadata": {},
   "outputs": [],
   "source": [
    "# 다차원 배열 연산: 2차원 배열 ** 스칼라\n",
    "arr4 = np.random.randint(10, size=(3, 5))\n",
    "print(arr4)\n",
    "\n",
    "arr5 = arr4 ** 2\n",
    "print(arr5)"
   ]
  },
  {
   "cell_type": "code",
   "execution_count": null,
   "metadata": {},
   "outputs": [],
   "source": [
    "\"\"\"\n",
    "    UFuncs: 산술 연산\n",
    "\"\"\"\n",
    "\n",
    "# 기본 산술 연산\n",
    "x = np.arange(4)\n",
    "print(\"x     =\", x)\n",
    "print(\"x + 5 =\", x + 5)\n",
    "print(\"x - 5 =\", x - 5)\n",
    "print(\"x * 2 =\", x * 2)\n",
    "print(\"x / 2 =\", x / 2)\n",
    "print(\"x ** 2 =\", x ** 2)\n",
    "\n",
    "# [+] 산술 연산에 대응하는 유니버설 함수\n",
    "print(\"x + 5 =\", ...)\n",
    "print(\"x - 5 =\", ...)\n",
    "print(\"x * 2 =\", ...)\n",
    "print(\"x / 2 =\", ...)\n",
    "print(\"x ** 2 =\", ...)\n"
   ]
  },
  {
   "cell_type": "code",
   "execution_count": null,
   "metadata": {},
   "outputs": [],
   "source": [
    "\"\"\"\n",
    "    UFuncs: 절댓값 계산\n",
    "\"\"\"\n",
    "\n",
    "# [+] 절댓값 함수\n",
    "x = np.array([-2, -1, 0, 1, 2])\n",
    "..."
   ]
  },
  {
   "cell_type": "code",
   "execution_count": null,
   "metadata": {},
   "outputs": [],
   "source": [
    "\"\"\"\n",
    "    np.linspace(start, stop, num): 선형 간격 벡터 생성\n",
    "        - start: 벡터의 시작 값\n",
    "        - end: 벡터의 종료 값\n",
    "        - num: 생성할 값의 개수\n",
    "\"\"\"\n",
    "\n",
    "# [+][0, 100]의 범위를 가지며, 균일한 간격의 5개의 값들로 구성되는 벡터를 생성\n",
    "x = ...\n",
    "x"
   ]
  },
  {
   "cell_type": "code",
   "execution_count": null,
   "metadata": {},
   "outputs": [],
   "source": [
    "# [+] [0, 100]의 범위를 가지며, [0, 10, 20, 30, ..., 100]와\n",
    "# 같은 값들로 구성되는 벡터를 생성\n",
    "x = ...\n",
    "x"
   ]
  },
  {
   "cell_type": "code",
   "execution_count": null,
   "metadata": {},
   "outputs": [],
   "source": [
    "# 삼각함수(trigonometric functions)\n",
    "theta = np.linspace(0, np.pi, 3)\n",
    "\n",
    "print(theta)\n",
    "print(np.sin(theta))\n",
    "print(np.cos(theta))\n",
    "print(np.tan(theta))"
   ]
  },
  {
   "cell_type": "code",
   "execution_count": null,
   "metadata": {},
   "outputs": [],
   "source": [
    "\"\"\"\n",
    "    집계 함수: reduce()\n",
    "\"\"\"\n",
    "\n",
    "# 배열 생성\n",
    "x = np.arange(1, 5)\n",
    "x"
   ]
  },
  {
   "cell_type": "code",
   "execution_count": null,
   "metadata": {},
   "outputs": [],
   "source": [
    "# [+] 덧셈 연산으로 집계\n",
    "aggr = ...\n",
    "aggr"
   ]
  },
  {
   "cell_type": "code",
   "execution_count": null,
   "metadata": {},
   "outputs": [],
   "source": [
    "# [+] 곱셈 연산으로 집계\n",
    "aggr = ...\n",
    "aggr"
   ]
  },
  {
   "cell_type": "code",
   "execution_count": null,
   "metadata": {},
   "outputs": [],
   "source": [
    "\"\"\"\n",
    "    집계 함수: accumulate()\n",
    "\"\"\"\n",
    "\n",
    "# [+] 덧셈 연산으로 집계\n",
    "accum = ...\n",
    "accum"
   ]
  },
  {
   "cell_type": "code",
   "execution_count": null,
   "metadata": {},
   "outputs": [],
   "source": [
    "# [+] 곱셈 연산으로 집계\n",
    "accum = ...\n",
    "accum"
   ]
  },
  {
   "cell_type": "code",
   "execution_count": null,
   "metadata": {},
   "outputs": [],
   "source": [
    "# 집계 함수: sum()\n",
    "np.random.seed(3)\n",
    "arr = ... # [+] 0~1 사이의 실수 형태의 난수 배열 생성\n",
    "\n",
    "print(arr)\n",
    "print(\"sum =\", np.sum(arr))"
   ]
  },
  {
   "cell_type": "code",
   "execution_count": null,
   "metadata": {},
   "outputs": [],
   "source": [
    "# sum(): Python 내장함수\n",
    "%timeit sum(arr)"
   ]
  },
  {
   "cell_type": "code",
   "execution_count": null,
   "metadata": {},
   "outputs": [],
   "source": [
    "# np.sum()\n",
    "%timeit np.sum(arr) # 1000µs = 1ms"
   ]
  },
  {
   "cell_type": "code",
   "execution_count": null,
   "metadata": {},
   "outputs": [],
   "source": [
    "# [+] 그 외의 집계함수\n",
    "print(\"max =\", ...)\n",
    "print(\"min =\", ...)\n",
    "print(\"mean =\", ...)\n",
    "print(\"median =\", ...)\n",
    "print(\"percentile =\", ...)\n",
    "print(\"variance =\", ...)\n",
    "print(\"standard deviation =\", ...)\n",
    "print(\"index of maximum value =\", ...)\n",
    "print(\"index of minimum value =\", ...)\n",
    "print(\"Is there any number greater than 1? =\", ...)\n",
    "print(\"Is every number greater than 0? =\", ...) "
   ]
  },
  {
   "cell_type": "code",
   "execution_count": 25,
   "metadata": {},
   "outputs": [
    {
     "name": "stdout",
     "output_type": "stream",
     "text": [
      "[[5 0 3 3]\n",
      " [7 9 3 5]\n",
      " [2 4 7 6]] \n",
      "\n",
      "[14 13 13 14] \n",
      "\n",
      "[11 24 19]\n"
     ]
    }
   ],
   "source": [
    "\"\"\"다차원 집계\"\"\"\n",
    "\n",
    "# 2차원 난수 배열 생성\n",
    "np.random.seed(0)\n",
    "arr = np.random.randint(10, size=(3, 4))\n",
    "arr"
   ]
  },
  {
   "cell_type": "code",
   "execution_count": 27,
   "metadata": {},
   "outputs": [
    {
     "data": {
      "text/plain": [
       "array([14, 13, 13, 14])"
      ]
     },
     "execution_count": 27,
     "metadata": {},
     "output_type": "execute_result"
    }
   ],
   "source": [
    "# [+] 행 방향으로 집계 (row sum)\n",
    "..."
   ]
  },
  {
   "cell_type": "code",
   "execution_count": 28,
   "metadata": {},
   "outputs": [
    {
     "data": {
      "text/plain": [
       "array([11, 24, 19])"
      ]
     },
     "execution_count": 28,
     "metadata": {},
     "output_type": "execute_result"
    }
   ],
   "source": [
    "# [+] 열 방향으로 집계 (column sum)\n",
    "..."
   ]
  }
 ],
 "metadata": {
  "kernelspec": {
   "display_name": "Python 3 (ipykernel)",
   "language": "python",
   "name": "python3"
  },
  "language_info": {
   "codemirror_mode": {
    "name": "ipython",
    "version": 3
   },
   "file_extension": ".py",
   "mimetype": "text/x-python",
   "name": "python",
   "nbconvert_exporter": "python",
   "pygments_lexer": "ipython3",
   "version": "3.11.3"
  }
 },
 "nbformat": 4,
 "nbformat_minor": 4
}
