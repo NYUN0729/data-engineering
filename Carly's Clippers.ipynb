{
 "cells": [
  {
   "cell_type": "markdown",
   "id": "57ac1ef5-a833-4caf-aed0-3dd5ca2ad63c",
   "metadata": {},
   "source": [
    "# 생성"
   ]
  },
  {
   "cell_type": "code",
   "execution_count": 48,
   "id": "26bebeb4-1d13-4db6-90a0-4ed97a108dac",
   "metadata": {},
   "outputs": [],
   "source": [
    "hairstyles = [\"bouffant\", \"pixie\", \"dreadlocks\", \"crew\", \"bowl\", \"bob\", \"mohawk\", \"flattop\"]\n",
    "prices = [30, 25, 40, 20, 20, 35, 50, 35]\n",
    "last_week = [2, 3, 5, 8, 4, 4, 6, 2]"
   ]
  },
  {
   "cell_type": "markdown",
   "id": "4a2a5d01-a2d4-4bfd-a782-43bf6d9cfa63",
   "metadata": {},
   "source": [
    "# Prices and Cuts"
   ]
  },
  {
   "cell_type": "code",
   "execution_count": 54,
   "id": "bfd41440-15a4-4211-b0d3-5d5b6be42e60",
   "metadata": {},
   "outputs": [
    {
     "name": "stdout",
     "output_type": "stream",
     "text": [
      "Average price is 31.875\n"
     ]
    }
   ],
   "source": [
    "total_price = 0\n",
    "\n",
    "for price in prices:\n",
    "    total_price += price\n",
    "\n",
    "average_price=total_price/len(prices)\n",
    "print('Average price is', average_price)"
   ]
  },
  {
   "cell_type": "code",
   "execution_count": 70,
   "id": "5c6ee4bb-539a-459b-b4be-9cb56dc85032",
   "metadata": {},
   "outputs": [
    {
     "data": {
      "text/plain": [
       "[25, 20, 35, 15, 15, 30, 45, 30]"
      ]
     },
     "execution_count": 70,
     "metadata": {},
     "output_type": "execute_result"
    }
   ],
   "source": [
    "new_prices = [i-5 for i in prices]\n",
    "new_prices"
   ]
  },
  {
   "cell_type": "markdown",
   "id": "4b6cb19d-7f81-471b-9b3e-c94e1747d818",
   "metadata": {},
   "source": [
    "# Revenue:"
   ]
  },
  {
   "cell_type": "code",
   "execution_count": 89,
   "id": "73113fae-8b07-4249-a5c8-ef1e55d0627a",
   "metadata": {},
   "outputs": [
    {
     "data": {
      "text/plain": [
       "1085"
      ]
     },
     "execution_count": 89,
     "metadata": {},
     "output_type": "execute_result"
    }
   ],
   "source": [
    "total_revenue = 0\n",
    "\n",
    "for i in range(len(hairstyles)):\n",
    "    total_revenue += prices[i] * last_week[i]\n",
    "\n",
    "total_revenue\n",
    "    "
   ]
  },
  {
   "cell_type": "code",
   "execution_count": 87,
   "id": "5b93acf7-5132-471f-8005-8ffe2763f3a0",
   "metadata": {},
   "outputs": [
    {
     "data": {
      "text/plain": [
       "155.0"
      ]
     },
     "execution_count": 87,
     "metadata": {},
     "output_type": "execute_result"
    }
   ],
   "source": [
    "average_daily_revenue = total_revenue / 7\n",
    "\n",
    "average_daily_revenue"
   ]
  },
  {
   "cell_type": "code",
   "execution_count": 93,
   "id": "17ec6494-7543-4c7b-815e-95636b02175e",
   "metadata": {},
   "outputs": [
    {
     "data": {
      "text/plain": [
       "['bouffant', 'pixie', 'crew', 'bowl']"
      ]
     },
     "execution_count": 93,
     "metadata": {},
     "output_type": "execute_result"
    }
   ],
   "source": [
    "cuts_under_30 = [hairstyles[i] for i in range(len(new_prices)) if new_prices[i] < 30]\n",
    "cuts_under_30"
   ]
  }
 ],
 "metadata": {
  "kernelspec": {
   "display_name": "Python 3 (ipykernel)",
   "language": "python",
   "name": "python3"
  },
  "language_info": {
   "codemirror_mode": {
    "name": "ipython",
    "version": 3
   },
   "file_extension": ".py",
   "mimetype": "text/x-python",
   "name": "python",
   "nbconvert_exporter": "python",
   "pygments_lexer": "ipython3",
   "version": "3.12.4"
  }
 },
 "nbformat": 4,
 "nbformat_minor": 5
}
