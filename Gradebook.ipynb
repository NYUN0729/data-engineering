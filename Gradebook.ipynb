{
 "cells": [
  {
   "cell_type": "markdown",
   "id": "a776acea-7ef3-4453-bf43-476a602541c6",
   "metadata": {},
   "source": [
    "# 1~4"
   ]
  },
  {
   "cell_type": "code",
   "execution_count": 188,
   "id": "9cd784e9-cc1e-41f6-b902-5059fd256df8",
   "metadata": {},
   "outputs": [
    {
     "name": "stdout",
     "output_type": "stream",
     "text": [
      "('physics', 'calculus', 'poetry', 'history')\n",
      "[98, 97, 85, 88]\n"
     ]
    }
   ],
   "source": [
    "# 생성\n",
    "subjects =\"physics\",\"calculus\",\"poetry\",\"history\"\n",
    "print(subjects)\n",
    "\n",
    "grades = ([98,97,85,88])\n",
    "print(grades)"
   ]
  },
  {
   "cell_type": "code",
   "execution_count": 220,
   "id": "cdbfa690-f0f2-4368-bf9f-714442f2cf89",
   "metadata": {},
   "outputs": [
    {
     "data": {
      "text/plain": [
       "[['physics', 98], ['calculus', 97], ['poetry', 85], ['history', 88]]"
      ]
     },
     "execution_count": 220,
     "metadata": {},
     "output_type": "execute_result"
    }
   ],
   "source": [
    "# 수동 결합\n",
    "gradebook = 0\n",
    "gradebook = [\n",
    "    [subjects[0], grades[0]],\n",
    "    [subjects[1], grades[1]],\n",
    "    [subjects[2], grades[2]],\n",
    "    [subjects[3], grades[3]]\n",
    "]\n",
    "\n",
    "gradebook"
   ]
  },
  {
   "cell_type": "markdown",
   "id": "e05ddb92-47df-4c8e-8142-7b87fe82b0f1",
   "metadata": {},
   "source": [
    "# 5~6"
   ]
  },
  {
   "cell_type": "code",
   "execution_count": 223,
   "id": "37d2a631-8354-4029-b524-8c50b46d6bf4",
   "metadata": {},
   "outputs": [
    {
     "data": {
      "text/plain": [
       "[['physics', 98],\n",
       " ['calculus', 97],\n",
       " ['poetry', 85],\n",
       " ['history', 88],\n",
       " ['computer science', 100],\n",
       " ['visual arts', 93]]"
      ]
     },
     "execution_count": 223,
     "metadata": {},
     "output_type": "execute_result"
    }
   ],
   "source": [
    "# 추가\n",
    "gradebook.append([\"computer science\", 100])\n",
    "gradebook.append([\"visual arts\", 93])\n",
    "gradebook"
   ]
  },
  {
   "cell_type": "markdown",
   "id": "6dfaea40-e0aa-4bc4-a028-1fb1fa8102ba",
   "metadata": {},
   "source": [
    "# 7~9"
   ]
  },
  {
   "cell_type": "code",
   "execution_count": 225,
   "id": "4a1ca98b-30df-460d-ae39-a134a5ffa5cc",
   "metadata": {},
   "outputs": [
    {
     "data": {
      "text/plain": [
       "[['physics', 98],\n",
       " ['calculus', 97],\n",
       " ['poetry'],\n",
       " ['history', 88],\n",
       " ['computer science', 100],\n",
       " ['visual arts', 98]]"
      ]
     },
     "execution_count": 225,
     "metadata": {},
     "output_type": "execute_result"
    }
   ],
   "source": [
    "# 삭제와 변경\n",
    "gradebook[5][1] += 5\n",
    "gradebook[2].remove(85)\n",
    "gradebook"
   ]
  },
  {
   "cell_type": "code",
   "execution_count": 227,
   "id": "cafc90ee-de7c-4db1-814c-9da08c685bc8",
   "metadata": {},
   "outputs": [
    {
     "data": {
      "text/plain": [
       "[['physics', 98],\n",
       " ['calculus', 97],\n",
       " ['poetry', 'pass'],\n",
       " ['history', 88],\n",
       " ['computer science', 100],\n",
       " ['visual arts', 98]]"
      ]
     },
     "execution_count": 227,
     "metadata": {},
     "output_type": "execute_result"
    }
   ],
   "source": [
    "gradebook[2].append('pass')\n",
    "gradebook"
   ]
  },
  {
   "cell_type": "markdown",
   "id": "a1c88a12-89e3-484f-9590-d24df04c37c6",
   "metadata": {},
   "source": [
    "# 10"
   ]
  },
  {
   "cell_type": "code",
   "execution_count": 229,
   "id": "79d6a216-f821-4e6a-bc89-5392ee504cfe",
   "metadata": {},
   "outputs": [
    {
     "data": {
      "text/plain": [
       "[['politics', 80],\n",
       " ['latin', 96],\n",
       " ['dance', 97],\n",
       " ['architecture', 65],\n",
       " ['physics', 98],\n",
       " ['calculus', 97],\n",
       " ['poetry', 'pass'],\n",
       " ['history', 88],\n",
       " ['computer science', 100],\n",
       " ['visual arts', 98]]"
      ]
     },
     "execution_count": 229,
     "metadata": {},
     "output_type": "execute_result"
    }
   ],
   "source": [
    "#결합\n",
    "last_semester_gradebook = [[\"politics\", 80], [\"latin\", 96], [\"dance\", 97], [\"architecture\", 65]]\n",
    "full_gradebook = last_semester_gradebook+gradebook\n",
    "full_gradebook"
   ]
  },
  {
   "cell_type": "code",
   "execution_count": null,
   "id": "d42799ab-32a9-4925-b07b-31adb4fb6847",
   "metadata": {},
   "outputs": [],
   "source": []
  }
 ],
 "metadata": {
  "kernelspec": {
   "display_name": "Python 3 (ipykernel)",
   "language": "python",
   "name": "python3"
  },
  "language_info": {
   "codemirror_mode": {
    "name": "ipython",
    "version": 3
   },
   "file_extension": ".py",
   "mimetype": "text/x-python",
   "name": "python",
   "nbconvert_exporter": "python",
   "pygments_lexer": "ipython3",
   "version": "3.12.4"
  }
 },
 "nbformat": 4,
 "nbformat_minor": 5
}
