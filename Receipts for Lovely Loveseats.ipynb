{
 "cells": [
  {
   "cell_type": "markdown",
   "id": "bf8fd11c-d090-43c9-baf0-bffaf9d7433e",
   "metadata": {},
   "source": [
    "# 1~7"
   ]
  },
  {
   "cell_type": "code",
   "execution_count": 248,
   "id": "3e900bef-0fbc-4e79-8fc9-7ca7a86c1c63",
   "metadata": {},
   "outputs": [],
   "source": [
    "#문자열 제품등록\n",
    "lovely_loveseat_description =\"Lovely Loveseat. Tufted polyester blend on wood. 32 inches high x 40 inches wide x 30 inches deep. Red or white.\"\n",
    "lovely_loveseat_price = 254.00\n",
    "\n",
    "stylish_settee_description =\"Stylish Settee. Faux leather on birch. 29.50 inches high x 54.75 inches wide x 28 inches deep. Black.\"\n",
    "stylish_settee_price = 180.50\n",
    "\n",
    "luxurious_lamp_description = \"Luxurious Lamp. Glass and iron. 36 inches tall. Brown with cream shade.\"\n",
    "luxurious_lamp_price = 52.15\n",
    "\n",
    "# 세금\n",
    "sales_tax = 0.088"
   ]
  },
  {
   "cell_type": "code",
   "execution_count": 250,
   "id": "788afd0f-c82e-44fd-956c-3f3e71709766",
   "metadata": {},
   "outputs": [
    {
     "data": {
      "text/plain": [
       "'Lovely Loveseat. Tufted polyester blend on wood. 32 inches high x 40 inches wide x 30 inches deep. Red or white.'"
      ]
     },
     "execution_count": 250,
     "metadata": {},
     "output_type": "execute_result"
    }
   ],
   "source": [
    "lovely_loveseat_description"
   ]
  },
  {
   "cell_type": "markdown",
   "id": "ed472e41-5331-4bcb-b7c3-daa70e5fb637",
   "metadata": {},
   "source": [
    "# 8~9"
   ]
  },
  {
   "cell_type": "code",
   "execution_count": 253,
   "id": "62ae31dd-d0ef-45e7-a0af-448938fdb152",
   "metadata": {},
   "outputs": [
    {
     "data": {
      "text/plain": [
       "0"
      ]
     },
     "execution_count": 253,
     "metadata": {},
     "output_type": "execute_result"
    }
   ],
   "source": [
    "#손님 계산 가격 및 정보 초기화\n",
    "customer_one_total = 0\n",
    "customer_one_itemization = \"\"\n",
    "\n",
    "customer_one_total"
   ]
  },
  {
   "cell_type": "markdown",
   "id": "679a598b-4888-4b9a-8d87-8484c12206b8",
   "metadata": {},
   "source": [
    "# 10~11"
   ]
  },
  {
   "cell_type": "code",
   "execution_count": 256,
   "id": "56e4547b-3a5c-459c-a46f-f24870a0fcff",
   "metadata": {},
   "outputs": [
    {
     "name": "stdout",
     "output_type": "stream",
     "text": [
      "254.0\n",
      "Lovely Loveseat. Tufted polyester blend on wood. 32 inches high x 40 inches wide x 30 inches deep. Red or white.\n"
     ]
    }
   ],
   "source": [
    "#lovely_loveseat 구매\n",
    "customer_one_total += lovely_loveseat_price\n",
    "print(customer_one_total)\n",
    "\n",
    "customer_one_itemization += lovely_loveseat_description\n",
    "print(customer_one_itemization)"
   ]
  },
  {
   "cell_type": "markdown",
   "id": "fc0ce6ad-39d5-4c2a-8fae-9fb3001a4fe0",
   "metadata": {},
   "source": [
    "# 12~13"
   ]
  },
  {
   "cell_type": "code",
   "execution_count": 259,
   "id": "df2e5919-52d0-4393-bffb-331245953358",
   "metadata": {},
   "outputs": [
    {
     "name": "stdout",
     "output_type": "stream",
     "text": [
      "306.15\n",
      "Lovely Loveseat. Tufted polyester blend on wood. 32 inches high x 40 inches wide x 30 inches deep. Red or white.Luxurious Lamp. Glass and iron. 36 inches tall. Brown with cream shade.\n"
     ]
    }
   ],
   "source": [
    "#luxurious_lamp 구매\n",
    "customer_one_total += luxurious_lamp_price\n",
    "print(customer_one_total)\n",
    "\n",
    "customer_one_itemization += luxurious_lamp_description\n",
    "print(customer_one_itemization)"
   ]
  },
  {
   "cell_type": "markdown",
   "id": "05dfc891-ad9a-4c42-a8e4-166668a8ae11",
   "metadata": {},
   "source": [
    "# 14~15"
   ]
  },
  {
   "cell_type": "code",
   "execution_count": 262,
   "id": "2308ea7f-69b1-4005-be87-c788b449db37",
   "metadata": {},
   "outputs": [
    {
     "data": {
      "text/plain": [
       "333.09119999999996"
      ]
     },
     "execution_count": 262,
     "metadata": {},
     "output_type": "execute_result"
    }
   ],
   "source": [
    "customer_one_tax = 0\n",
    "customer_one_tax = (customer_one_total * sales_tax) + customer_one_total\n",
    "customer_one_tax"
   ]
  },
  {
   "cell_type": "code",
   "execution_count": 275,
   "id": "3c677273-317d-4696-af6b-5063d6e62880",
   "metadata": {},
   "outputs": [
    {
     "name": "stdout",
     "output_type": "stream",
     "text": [
      "Customer One Items:\n",
      " Lovely Loveseat. Tufted polyester blend on wood. 32 inches high x 40 inches wide x 30 inches deep. Red or white.Luxurious Lamp. Glass and iron. 36 inches tall. Brown with cream shade.\n",
      "Customer One Total:\n",
      " 333.09119999999996\n"
     ]
    }
   ],
   "source": [
    "print(\"Customer One Items:\\n\", customer_one_itemization)\n",
    "print(\"Customer One Total:\\n\", customer_one_tax)"
   ]
  },
  {
   "cell_type": "code",
   "execution_count": null,
   "id": "0fa7c590-d53e-47d0-80c5-a21ead5193ed",
   "metadata": {},
   "outputs": [],
   "source": []
  },
  {
   "cell_type": "code",
   "execution_count": null,
   "id": "ac4f69d2-28ef-493d-8efa-b4fd865381cc",
   "metadata": {},
   "outputs": [],
   "source": []
  }
 ],
 "metadata": {
  "kernelspec": {
   "display_name": "Python 3 (ipykernel)",
   "language": "python",
   "name": "python3"
  },
  "language_info": {
   "codemirror_mode": {
    "name": "ipython",
    "version": 3
   },
   "file_extension": ".py",
   "mimetype": "text/x-python",
   "name": "python",
   "nbconvert_exporter": "python",
   "pygments_lexer": "ipython3",
   "version": "3.12.4"
  }
 },
 "nbformat": 4,
 "nbformat_minor": 5
}
