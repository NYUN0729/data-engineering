{
 "cells": [
  {
   "cell_type": "code",
   "execution_count": 52,
   "id": "2923603f-560c-4835-baf7-125cc7692c7f",
   "metadata": {},
   "outputs": [
    {
     "name": "stdout",
     "output_type": "stream",
     "text": [
      "['쌍', '쇠', '복', '돌', '팽', '육', '쌍', '개', '칠', '갑', '삼', '방']\n",
      "['봉', '구', '욕', '포', '똥', '삼', '식', '석', '놈', '님', '년', '돌', '단', '득', '방', '질', '장', '걸', '래', '룡', '동', '순', '자', '박', '창', '언', '것', '포', '만', '단', '국']\n"
     ]
    }
   ],
   "source": [
    "month_name= ['쌍', '쇠', '복', '돌', '팽', '육', '쌍', '개', '칠', '갑', '삼', '방']\n",
    "day_name= ['봉', '구', '욕', '포', '똥', '삼', '식', '석', '놈', '님', '년', '돌', '단', '득', '방', '질', '장', '걸', '래', '룡', '동', '순', '자', \n",
    "           '박', '창', '언', '것', '포', '만', '단', '국']\n",
    "\n",
    "print(month_name)\n",
    "print(day_name)"
   ]
  },
  {
   "cell_type": "code",
   "execution_count": 54,
   "id": "1a7638b0-5f3a-4f76-a5a8-eedaa8f8502a",
   "metadata": {},
   "outputs": [
    {
     "name": "stdout",
     "output_type": "stream",
     "text": [
      "당신의 조선시대 이름은 진쌍만 입니다.\n"
     ]
    }
   ],
   "source": [
    "def get_my_chosun_name(family_name, month, day):\n",
    "    name1 =month_name[month - 1]\n",
    "    name2 =day_name[day - 1]\n",
    "    \n",
    "    chosun_name = f\"{family_name}{name1}{name2}\"\n",
    "        \n",
    "    return f\"당신의 조선시대 이름은 {chosun_name} 입니다.\"\n",
    "print(get_my_chosun_name('진', 7, 29))"
   ]
  },
  {
   "cell_type": "code",
   "execution_count": null,
   "id": "9e85b126-d457-40c2-b49e-918bb29eb304",
   "metadata": {},
   "outputs": [],
   "source": []
  }
 ],
 "metadata": {
  "kernelspec": {
   "display_name": "Python 3 (ipykernel)",
   "language": "python",
   "name": "python3"
  },
  "language_info": {
   "codemirror_mode": {
    "name": "ipython",
    "version": 3
   },
   "file_extension": ".py",
   "mimetype": "text/x-python",
   "name": "python",
   "nbconvert_exporter": "python",
   "pygments_lexer": "ipython3",
   "version": "3.12.4"
  }
 },
 "nbformat": 4,
 "nbformat_minor": 5
}
